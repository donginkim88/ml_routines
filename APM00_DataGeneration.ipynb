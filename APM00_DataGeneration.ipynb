{
 "cells": [
  {
   "cell_type": "markdown",
   "metadata": {},
   "source": [
    "# Data"
   ]
  },
  {
   "cell_type": "markdown",
   "metadata": {},
   "source": [
    "## Random samples from a uniform distribution"
   ]
  },
  {
   "cell_type": "code",
   "execution_count": 19,
   "metadata": {
    "scrolled": true
   },
   "outputs": [
    {
     "data": {
      "text/plain": [
       "array([[105.46334745,  97.73513958],\n",
       "       [102.05096886,  98.19761023],\n",
       "       [100.8704374 ,  96.77877855],\n",
       "       [ 93.39053111,  92.70189032],\n",
       "       [103.2723553 , 101.36944496],\n",
       "       [ 94.07447626, 101.96695317],\n",
       "       [ 92.55706623, 113.03107708],\n",
       "       [ 96.97245077,  88.57474519],\n",
       "       [101.14912927,  99.69363497],\n",
       "       [ 90.60724191, 102.42977975],\n",
       "       [102.4554847 ,  98.61375337],\n",
       "       [ 98.84655887,  98.2166942 ],\n",
       "       [ 91.72646701, 105.8069451 ],\n",
       "       [ 93.9976573 ,  95.4135072 ],\n",
       "       [101.21855479, 109.47769011],\n",
       "       [105.13141598, 100.20320383],\n",
       "       [103.85758985, 103.070384  ],\n",
       "       [ 94.32108157, 104.555556  ],\n",
       "       [104.6465705 ,  98.70251446],\n",
       "       [102.07824016, 101.96553925],\n",
       "       [ 96.59558054, 100.94459711],\n",
       "       [ 96.84468109,  97.0543873 ],\n",
       "       [ 95.61635963,  90.77241529],\n",
       "       [104.63356243, 103.19071216],\n",
       "       [103.35997632, 104.42139786],\n",
       "       [ 89.33144548, 101.57635269],\n",
       "       [ 91.55926526,  97.80289705],\n",
       "       [101.01982009, 108.44530851],\n",
       "       [105.19220693,  82.15101278],\n",
       "       [105.38378739,  93.87930702],\n",
       "       [108.40401421, 100.20358255],\n",
       "       [ 95.52730796,  99.34870167],\n",
       "       [100.1178767 , 104.49972676],\n",
       "       [101.17926341,  93.40025747],\n",
       "       [104.65978005, 109.06627172],\n",
       "       [ 97.5919973 ,  94.79129905],\n",
       "       [ 99.10326698, 100.81521399],\n",
       "       [105.22658364,  96.21929935],\n",
       "       [105.0854189 ,  94.81065109],\n",
       "       [ 99.1483834 , 103.00332067],\n",
       "       [102.27164951,  96.72977033],\n",
       "       [ 94.1173184 , 102.67701611],\n",
       "       [ 99.79159193,  89.2104035 ],\n",
       "       [ 98.18266364,  99.33304599],\n",
       "       [102.6374051 , 102.62863092],\n",
       "       [ 93.40575746,  93.41632688],\n",
       "       [ 98.44458802, 105.5429436 ],\n",
       "       [100.72626812, 100.8621555 ],\n",
       "       [101.27470702, 101.20374341],\n",
       "       [ 95.28909524,  91.57250595],\n",
       "       [105.38577524, 105.71514138],\n",
       "       [ 97.40919527, 100.84097891],\n",
       "       [100.71674337, 108.67474968],\n",
       "       [102.92731647, 102.99049344],\n",
       "       [100.47825071,  96.50158678],\n",
       "       [104.79511244, 107.13975648],\n",
       "       [ 94.39524627,  96.34273631],\n",
       "       [107.13447313,  99.28754761],\n",
       "       [ 96.80262523,  97.87501915],\n",
       "       [102.49112793, 106.00181733],\n",
       "       [102.08868935,  97.51196724],\n",
       "       [107.1467098 ,  90.34255687],\n",
       "       [105.08913155,  89.89793547],\n",
       "       [105.82167573,  97.44894901],\n",
       "       [101.14877445, 101.88060326],\n",
       "       [103.79741901, 103.94996117],\n",
       "       [ 87.00665131,  94.2329614 ],\n",
       "       [ 97.12201293,  97.63006855],\n",
       "       [ 93.78817593, 103.94136536],\n",
       "       [102.52767927, 100.19245543],\n",
       "       [102.45182078,  93.59997652],\n",
       "       [104.24621756,  98.93140177],\n",
       "       [103.20337393,  92.52059784],\n",
       "       [ 88.77562715, 100.95990475],\n",
       "       [ 90.92752113,  96.6559323 ],\n",
       "       [ 96.99173257, 105.98463814],\n",
       "       [109.51225631, 102.55260812],\n",
       "       [ 95.25409675,  97.85442441],\n",
       "       [107.98203115, 101.8509574 ],\n",
       "       [ 99.05180419, 100.46352507],\n",
       "       [102.86072404, 104.60132569],\n",
       "       [103.84945861,  93.54434912],\n",
       "       [ 94.23723767, 103.48162163],\n",
       "       [100.27785584, 100.40260905],\n",
       "       [106.07801304,  95.08073287],\n",
       "       [ 98.52218346, 100.98587474],\n",
       "       [ 94.53408809, 104.38838072],\n",
       "       [ 98.46268029, 101.22715475],\n",
       "       [ 97.13285193, 103.44519439],\n",
       "       [ 98.80685878, 109.84006909],\n",
       "       [100.71522166, 102.1953077 ],\n",
       "       [ 96.98627514, 108.50393473],\n",
       "       [106.99191603, 103.72662955],\n",
       "       [104.51731716, 105.71667034],\n",
       "       [102.92438118, 101.54070117],\n",
       "       [100.37674667, 108.45140242],\n",
       "       [ 98.6437268 ,  98.46847741],\n",
       "       [ 95.51810758,  99.28698421],\n",
       "       [103.9420775 , 102.00837956],\n",
       "       [111.52993066, 103.09370423]])"
      ]
     },
     "execution_count": 19,
     "metadata": {},
     "output_type": "execute_result"
    }
   ],
   "source": [
    "mu = 100\n",
    "sigma = 5\n",
    "\n",
    "sigma * np.random.randn(100, 2) + mu"
   ]
  },
  {
   "cell_type": "code",
   "execution_count": 20,
   "metadata": {},
   "outputs": [],
   "source": [
    "mu = 100\n",
    "sigma = 5\n",
    "\n",
    "# data = np.random.randn(100, 2)  #random samples from a uniform distribution over [0, 1)\n",
    "data = sigma * np.random.randn(100, 2) + mu"
   ]
  },
  {
   "cell_type": "code",
   "execution_count": 21,
   "metadata": {},
   "outputs": [
    {
     "data": {
      "text/html": [
       "<div>\n",
       "<style scoped>\n",
       "    .dataframe tbody tr th:only-of-type {\n",
       "        vertical-align: middle;\n",
       "    }\n",
       "\n",
       "    .dataframe tbody tr th {\n",
       "        vertical-align: top;\n",
       "    }\n",
       "\n",
       "    .dataframe thead th {\n",
       "        text-align: right;\n",
       "    }\n",
       "</style>\n",
       "<table border=\"1\" class=\"dataframe\">\n",
       "  <thead>\n",
       "    <tr style=\"text-align: right;\">\n",
       "      <th></th>\n",
       "      <th>X</th>\n",
       "      <th>Y</th>\n",
       "    </tr>\n",
       "  </thead>\n",
       "  <tbody>\n",
       "    <tr>\n",
       "      <td>0</td>\n",
       "      <td>99.155142</td>\n",
       "      <td>92.942745</td>\n",
       "    </tr>\n",
       "    <tr>\n",
       "      <td>1</td>\n",
       "      <td>98.311240</td>\n",
       "      <td>100.785011</td>\n",
       "    </tr>\n",
       "    <tr>\n",
       "      <td>2</td>\n",
       "      <td>100.605627</td>\n",
       "      <td>101.893674</td>\n",
       "    </tr>\n",
       "    <tr>\n",
       "      <td>3</td>\n",
       "      <td>109.770328</td>\n",
       "      <td>102.311724</td>\n",
       "    </tr>\n",
       "    <tr>\n",
       "      <td>4</td>\n",
       "      <td>99.732136</td>\n",
       "      <td>99.263779</td>\n",
       "    </tr>\n",
       "  </tbody>\n",
       "</table>\n",
       "</div>"
      ],
      "text/plain": [
       "            X           Y\n",
       "0   99.155142   92.942745\n",
       "1   98.311240  100.785011\n",
       "2  100.605627  101.893674\n",
       "3  109.770328  102.311724\n",
       "4   99.732136   99.263779"
      ]
     },
     "execution_count": 21,
     "metadata": {},
     "output_type": "execute_result"
    }
   ],
   "source": [
    "df = pd.DataFrame(data, columns = [\"X\", \"Y\"])\n",
    "df.head()"
   ]
  },
  {
   "cell_type": "code",
   "execution_count": 22,
   "metadata": {},
   "outputs": [
    {
     "data": {
      "text/plain": [
       "<matplotlib.collections.PathCollection at 0x126ee9cd0>"
      ]
     },
     "execution_count": 22,
     "metadata": {},
     "output_type": "execute_result"
    },
    {
     "data": {
      "image/png": "[encoded data removed]",
      "text/plain": [
       "<Figure size 432x288 with 1 Axes>"
      ]
     },
     "metadata": {
      "needs_background": "light"
     },
     "output_type": "display_data"
    }
   ],
   "source": [
    "plt.scatter(df.X, df.Y)"
   ]
  },
  {
   "cell_type": "markdown",
   "metadata": {},
   "source": [
    "## Adding a tail"
   ]
  },
  {
   "cell_type": "code",
   "execution_count": 23,
   "metadata": {},
   "outputs": [
    {
     "data": {
      "text/plain": [
       "array([[ 63.09137469, 103.19194579],\n",
       "       [ 18.97986883,  66.68441098],\n",
       "       [ 54.07864655, 109.30765209],\n",
       "       [104.31241416,  83.22874977],\n",
       "       [ 77.20147426,  73.67851308]])"
      ]
     },
     "execution_count": 23,
     "metadata": {},
     "output_type": "execute_result"
    }
   ],
   "source": [
    "tail = 100 * np.random.rand(5, 2) + 10\n",
    "tail[:5]"
   ]
  },
  {
   "cell_type": "code",
   "execution_count": 24,
   "metadata": {},
   "outputs": [
    {
     "data": {
      "text/plain": [
       "(105, 2)"
      ]
     },
     "execution_count": 24,
     "metadata": {},
     "output_type": "execute_result"
    }
   ],
   "source": [
    "np.concatenate((data, tail), axis=0).shape"
   ]
  },
  {
   "cell_type": "code",
   "execution_count": 25,
   "metadata": {},
   "outputs": [],
   "source": [
    "data = np.concatenate((data, tail), axis=0)"
   ]
  },
  {
   "cell_type": "code",
   "execution_count": 26,
   "metadata": {},
   "outputs": [
    {
     "data": {
      "text/html": [
       "<div>\n",
       "<style scoped>\n",
       "    .dataframe tbody tr th:only-of-type {\n",
       "        vertical-align: middle;\n",
       "    }\n",
       "\n",
       "    .dataframe tbody tr th {\n",
       "        vertical-align: top;\n",
       "    }\n",
       "\n",
       "    .dataframe thead th {\n",
       "        text-align: right;\n",
       "    }\n",
       "</style>\n",
       "<table border=\"1\" class=\"dataframe\">\n",
       "  <thead>\n",
       "    <tr style=\"text-align: right;\">\n",
       "      <th></th>\n",
       "      <th>X</th>\n",
       "      <th>Y</th>\n",
       "    </tr>\n",
       "  </thead>\n",
       "  <tbody>\n",
       "    <tr>\n",
       "      <td>100</td>\n",
       "      <td>63.091375</td>\n",
       "      <td>103.191946</td>\n",
       "    </tr>\n",
       "    <tr>\n",
       "      <td>101</td>\n",
       "      <td>18.979869</td>\n",
       "      <td>66.684411</td>\n",
       "    </tr>\n",
       "    <tr>\n",
       "      <td>102</td>\n",
       "      <td>54.078647</td>\n",
       "      <td>109.307652</td>\n",
       "    </tr>\n",
       "    <tr>\n",
       "      <td>103</td>\n",
       "      <td>104.312414</td>\n",
       "      <td>83.228750</td>\n",
       "    </tr>\n",
       "    <tr>\n",
       "      <td>104</td>\n",
       "      <td>77.201474</td>\n",
       "      <td>73.678513</td>\n",
       "    </tr>\n",
       "  </tbody>\n",
       "</table>\n",
       "</div>"
      ],
      "text/plain": [
       "              X           Y\n",
       "100   63.091375  103.191946\n",
       "101   18.979869   66.684411\n",
       "102   54.078647  109.307652\n",
       "103  104.312414   83.228750\n",
       "104   77.201474   73.678513"
      ]
     },
     "execution_count": 26,
     "metadata": {},
     "output_type": "execute_result"
    }
   ],
   "source": [
    "df = pd.DataFrame(data, columns = [\"X\", \"Y\"])\n",
    "df.tail()"
   ]
  },
  {
   "cell_type": "code",
   "execution_count": 27,
   "metadata": {},
   "outputs": [
    {
     "data": {
      "text/plain": [
       "<matplotlib.collections.PathCollection at 0x126f96850>"
      ]
     },
     "execution_count": 27,
     "metadata": {},
     "output_type": "execute_result"
    },
    {
     "data": {
      "image/png": "[encoded data removed]",
      "text/plain": [
       "<Figure size 432x288 with 1 Axes>"
      ]
     },
     "metadata": {
      "needs_background": "light"
     },
     "output_type": "display_data"
    }
   ],
   "source": [
    "plt.scatter(df.X, df.Y)"
   ]
  },
  {
   "cell_type": "code",
   "execution_count": 28,
   "metadata": {},
   "outputs": [
    {
     "data": {
      "text/plain": [
       "(array([ 1.,  0.,  0.,  0.,  1.,  0.,  0.,  0.,  0.,  0.,  0.,  1.,  0.,\n",
       "         1.,  0.,  1.,  4.,  6.,  7.,  9.,  8., 14.,  8., 11., 13.,  7.,\n",
       "         5.,  4.,  3.,  1.]),\n",
       " array([ 66.68441098,  68.16747165,  69.65053232,  71.13359299,\n",
       "         72.61665366,  74.09971433,  75.582775  ,  77.06583567,\n",
       "         78.54889634,  80.03195701,  81.51501768,  82.99807835,\n",
       "         84.48113902,  85.96419969,  87.44726036,  88.93032103,\n",
       "         90.4133817 ,  91.89644237,  93.37950304,  94.86256371,\n",
       "         96.34562438,  97.82868505,  99.31174572, 100.79480639,\n",
       "        102.27786706, 103.76092773, 105.2439884 , 106.72704907,\n",
       "        108.21010974, 109.69317041, 111.17623108]),\n",
       " <a list of 30 Patch objects>)"
      ]
     },
     "execution_count": 28,
     "metadata": {},
     "output_type": "execute_result"
    },
    {
     "data": {
      "image/png": "[encoded data removed]",
      "text/plain": [
       "<Figure size 432x288 with 1 Axes>"
      ]
     },
     "metadata": {
      "needs_background": "light"
     },
     "output_type": "display_data"
    }
   ],
   "source": [
    "plt.hist(df.X, bins=30, alpha=.5)\n",
    "plt.hist(df.Y, bins=30, alpha=.5)"
   ]
  },
  {
   "cell_type": "code",
   "execution_count": 29,
   "metadata": {},
   "outputs": [
    {
     "data": {
      "text/html": [
       "<div>\n",
       "<style scoped>\n",
       "    .dataframe tbody tr th:only-of-type {\n",
       "        vertical-align: middle;\n",
       "    }\n",
       "\n",
       "    .dataframe tbody tr th {\n",
       "        vertical-align: top;\n",
       "    }\n",
       "\n",
       "    .dataframe thead th {\n",
       "        text-align: right;\n",
       "    }\n",
       "</style>\n",
       "<table border=\"1\" class=\"dataframe\">\n",
       "  <thead>\n",
       "    <tr style=\"text-align: right;\">\n",
       "      <th></th>\n",
       "      <th>X</th>\n",
       "      <th>Y</th>\n",
       "    </tr>\n",
       "  </thead>\n",
       "  <tbody>\n",
       "    <tr>\n",
       "      <td>count</td>\n",
       "      <td>105.000000</td>\n",
       "      <td>105.000000</td>\n",
       "    </tr>\n",
       "    <tr>\n",
       "      <td>mean</td>\n",
       "      <td>99.306316</td>\n",
       "      <td>98.959667</td>\n",
       "    </tr>\n",
       "    <tr>\n",
       "      <td>std</td>\n",
       "      <td>11.267912</td>\n",
       "      <td>6.571865</td>\n",
       "    </tr>\n",
       "    <tr>\n",
       "      <td>min</td>\n",
       "      <td>18.979869</td>\n",
       "      <td>66.684411</td>\n",
       "    </tr>\n",
       "    <tr>\n",
       "      <td>25%</td>\n",
       "      <td>96.667491</td>\n",
       "      <td>95.935470</td>\n",
       "    </tr>\n",
       "    <tr>\n",
       "      <td>50%</td>\n",
       "      <td>100.698272</td>\n",
       "      <td>99.308804</td>\n",
       "    </tr>\n",
       "    <tr>\n",
       "      <td>75%</td>\n",
       "      <td>104.172066</td>\n",
       "      <td>103.191946</td>\n",
       "    </tr>\n",
       "    <tr>\n",
       "      <td>max</td>\n",
       "      <td>114.159909</td>\n",
       "      <td>111.176231</td>\n",
       "    </tr>\n",
       "  </tbody>\n",
       "</table>\n",
       "</div>"
      ],
      "text/plain": [
       "                X           Y\n",
       "count  105.000000  105.000000\n",
       "mean    99.306316   98.959667\n",
       "std     11.267912    6.571865\n",
       "min     18.979869   66.684411\n",
       "25%     96.667491   95.935470\n",
       "50%    100.698272   99.308804\n",
       "75%    104.172066  103.191946\n",
       "max    114.159909  111.176231"
      ]
     },
     "execution_count": 29,
     "metadata": {},
     "output_type": "execute_result"
    }
   ],
   "source": [
    "df.describe()"
   ]
  },
  {
   "cell_type": "code",
   "execution_count": 30,
   "metadata": {},
   "outputs": [
    {
     "data": {
      "text/plain": [
       "(99.30631610477191, 98.95966657992966)"
      ]
     },
     "execution_count": 30,
     "metadata": {},
     "output_type": "execute_result"
    }
   ],
   "source": [
    "np.mean(df.X), np.mean(df.Y)"
   ]
  },
  {
   "cell_type": "code",
   "execution_count": null,
   "metadata": {},
   "outputs": [],
   "source": []
  }
 ],
 "metadata": {
  "kernelspec": {
   "display_name": "Python 3",
   "language": "python",
   "name": "python3"
  },
  "language_info": {
   "codemirror_mode": {
    "name": "ipython",
    "version": 3
   },
   "file_extension": ".py",
   "mimetype": "text/x-python",
   "name": "python",
   "nbconvert_exporter": "python",
   "pygments_lexer": "ipython3",
   "version": "3.7.4"
  },
  "toc": {
   "base_numbering": 1,
   "nav_menu": {},
   "number_sections": true,
   "sideBar": true,
   "skip_h1_title": false,
   "title_cell": "Table of Contents",
   "title_sidebar": "Contents",
   "toc_cell": false,
   "toc_position": {},
   "toc_section_display": true,
   "toc_window_display": false
  },
  "varInspector": {
   "cols": {
    "lenName": 16,
    "lenType": 16,
    "lenVar": 40
   },
   "kernels_config": {
    "python": {
     "delete_cmd_postfix": "",
     "delete_cmd_prefix": "del ",
     "library": "var_list.py",
     "varRefreshCmd": "print(var_dic_list())"
    },
    "r": {
     "delete_cmd_postfix": ") ",
     "delete_cmd_prefix": "rm(",
     "library": "var_list.r",
     "varRefreshCmd": "cat(var_dic_list()) "
    }
   },
   "types_to_exclude": [
    "module",
    "function",
    "builtin_function_or_method",
    "instance",
    "_Feature"
   ],
   "window_display": false
  }
 },
 "nbformat": 4,
 "nbformat_minor": 2
}
