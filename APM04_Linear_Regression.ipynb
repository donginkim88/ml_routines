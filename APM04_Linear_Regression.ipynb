{
 "cells": [
  {
   "cell_type": "code",
   "execution_count": 1,
   "metadata": {},
   "outputs": [
    {
     "name": "stderr",
     "output_type": "stream",
     "text": [
      "/Users/donginkim/anaconda3/lib/python3.7/site-packages/sklearn/externals/six.py:31: DeprecationWarning: The module is deprecated in version 0.21 and will be removed in version 0.23 since we've dropped support for Python 2.7. Please rely on the official version of six (https://pypi.org/project/six/).\n",
      "  \"(https://pypi.org/project/six/).\", DeprecationWarning)\n",
      "/Users/donginkim/anaconda3/lib/python3.7/site-packages/sklearn/externals/joblib/__init__.py:15: DeprecationWarning: sklearn.externals.joblib is deprecated in 0.21 and will be removed in 0.23. Please import this functionality directly from joblib, which can be installed with: pip install joblib. If this warning is raised when loading pickled models, you may need to re-serialize those models with scikit-learn 0.21+.\n",
      "  warnings.warn(msg, category=DeprecationWarning)\n"
     ]
    },
    {
     "data": {
      "application/javascript": [
       "IPython.notebook.set_autosave_interval(120000)"
      ]
     },
     "metadata": {},
     "output_type": "display_data"
    },
    {
     "name": "stdout",
     "output_type": "stream",
     "text": [
      "Autosaving every 120 seconds\n"
     ]
    }
   ],
   "source": [
    "# Base\n",
    "import os\n",
    "import re\n",
    "import math\n",
    "import mglearn\n",
    "import datetime\n",
    "from time import time\n",
    "from tqdm import tqdm\n",
    "import numpy as np  # linear algebra\n",
    "from scipy import stats\n",
    "from collections import Counter\n",
    "import warnings\n",
    "warnings.filterwarnings('ignore')\n",
    "\n",
    "#Pandas Config.\n",
    "#For the default setting: reset_option(param) \n",
    "import pandas as pd  # read and wrangle dataframes\n",
    "pd.set_option(\"display.max_rows\", 100) \n",
    "pd.set_option('display.max_columns', 30) #None for the entire columns\n",
    "pd.set_option('display.max_colwidth', 1000) #None for the entire columns\n",
    "pd.set_option('display.precision', 3) #precision in terms of decimal places\n",
    "\n",
    "#Matplotlib Config.\n",
    "import matplotlib\n",
    "import matplotlib.pyplot as plt # visualization\n",
    "from matplotlib import font_manager, rc\n",
    "matplotlib.style.use('ggplot')  #fivethirtyeightb, seaborn\n",
    "plt.rcParams['figure.figsize'] = (8, 6)\n",
    "plt.rcParams['font.family'] = 'serif'  #serif\n",
    "plt.rcParams['font.serif'] = 'Ubuntu'\n",
    "plt.rcParams['font.monospace'] = 'Ubuntu Mono'\n",
    "plt.rcParams['font.size'] = 10\n",
    "plt.rcParams['axes.labelsize'] = 10\n",
    "plt.rcParams['axes.labelweight'] = 'bold'\n",
    "plt.rcParams['xtick.labelsize'] = 8\n",
    "plt.rcParams['ytick.labelsize'] = 8\n",
    "plt.rcParams['legend.fontsize'] = 10\n",
    "plt.rcParams['figure.titlesize'] = 12\n",
    "plt.rcParams['axes.unicode_minus'] = False  #마이너스 깨짐 현상\n",
    "# rc('font', family='AppleGothic')  #Default 한글폰트\n",
    "%matplotlib inline \n",
    "\n",
    "#Seaborn Config.\n",
    "import seaborn as sns # statistical visualizations and aesthetics\n",
    "sns.set_style('whitegrid')\n",
    "sns.set_context(\"notebook\", rc={\"grid.linewidth\": 0.6})\n",
    "\n",
    "%autosave 120"
   ]
  },
  {
   "cell_type": "code",
   "execution_count": 2,
   "metadata": {},
   "outputs": [],
   "source": [
    "#Data Transformation\n",
    "# data preprocessing\n",
    "from sklearn.cluster import KMeans\n",
    "from sklearn.decomposition import PCA\n",
    "from sklearn.preprocessing import (StandardScaler,\n",
    "                                   MinMaxScaler,\n",
    "                                   RobustScaler,\n",
    "                                   OneHotEncoder,\n",
    "                                   LabelEncoder, \n",
    "                                   Imputer)\n",
    "\n",
    "\n",
    "# feature selection\n",
    "from sklearn.feature_selection import SelectFromModel\n",
    "\n",
    "\n",
    "# model evaluation\n",
    "from sklearn.model_selection import (KFold,\n",
    "                                     train_test_split, \n",
    "                                     StratifiedShuffleSplit,\n",
    "                                     cross_validate,\n",
    "                                     cross_val_score,\n",
    "                                     cross_val_predict, \n",
    "                                     learning_curve,\n",
    "                                     validation_curve,\n",
    "                                     GridSearchCV,\n",
    "                                     RandomizedSearchCV)"
   ]
  },
  {
   "cell_type": "code",
   "execution_count": 3,
   "metadata": {},
   "outputs": [],
   "source": [
    "#ML\n",
    "# metrics\n",
    "from sklearn.metrics import (accuracy_score,\n",
    "                             average_precision_score,\n",
    "                             confusion_matrix,\n",
    "                             log_loss,\n",
    "                             roc_auc_score,\n",
    "                             roc_curve,\n",
    "                             mean_absolute_error,\n",
    "                             mean_squared_error,\n",
    "                             r2_score)\n",
    "\n",
    "# persist final model pipeline\n",
    "from sklearn.externals import joblib\n",
    "\n",
    "\n",
    "# scikit-learn pipelines\n",
    "from sklearn.pipeline import make_pipeline, FeatureUnion\n",
    "\n",
    "\n",
    "# base class\n",
    "from sklearn.base import BaseEstimator, TransformerMixin\n",
    "\n",
    "\n",
    "# models: Regressor\n",
    "from sklearn.linear_model import (Lasso, LassoCV, Ridge, LinearRegression)\n",
    "from sklearn.svm import SVR\n",
    "from sklearn.ensemble import (RandomForestRegressor, BaggingRegressor)\n",
    "from xgboost import XGBRegressor\n",
    "from lightgbm import LGBMRegressor\n",
    "\n",
    "\n",
    "# models: Classifier\n",
    "from sklearn.linear_model import LogisticRegression\n",
    "from sklearn.svm import SVC\n",
    "from sklearn.tree import DecisionTreeClassifier\n",
    "from sklearn.neighbors import KNeighborsClassifier\n",
    "from sklearn.naive_bayes import GaussianNB\n",
    "from sklearn.ensemble import (RandomForestClassifier, AdaBoostClassifier, ExtraTreesClassifier, GradientBoostingClassifier)\n",
    "from xgboost import (XGBClassifier, plot_importance)\n",
    "from lightgbm import (LGBMClassifier, plot_importance)"
   ]
  },
  {
   "cell_type": "markdown",
   "metadata": {},
   "source": [
    "# 선형회귀, or Ordinary Least Squares(최소제곱법)\n",
    "- MSE를 최소화하는 파라미터 w와 b를 찾는다.\n",
    "- MSE: 예측값과 타깃값의 차이를 제곱하여 더한 후에 샘플의 개수로 나눈 것 \n",
    "- 선형회귀는 매개변수가 없는 것이 장점이지만, 그래서 모델의 복잡도를 제어할 방법도 없습니다. "
   ]
  },
  {
   "cell_type": "code",
   "execution_count": null,
   "metadata": {},
   "outputs": [],
   "source": []
  }
 ],
 "metadata": {
  "kernelspec": {
   "display_name": "Python 3",
   "language": "python",
   "name": "python3"
  },
  "language_info": {
   "codemirror_mode": {
    "name": "ipython",
    "version": 3
   },
   "file_extension": ".py",
   "mimetype": "text/x-python",
   "name": "python",
   "nbconvert_exporter": "python",
   "pygments_lexer": "ipython3",
   "version": "3.7.4"
  },
  "toc": {
   "base_numbering": 1,
   "nav_menu": {},
   "number_sections": true,
   "sideBar": true,
   "skip_h1_title": false,
   "title_cell": "Table of Contents",
   "title_sidebar": "Contents",
   "toc_cell": false,
   "toc_position": {},
   "toc_section_display": true,
   "toc_window_display": false
  },
  "varInspector": {
   "cols": {
    "lenName": 16,
    "lenType": 16,
    "lenVar": 40
   },
   "kernels_config": {
    "python": {
     "delete_cmd_postfix": "",
     "delete_cmd_prefix": "del ",
     "library": "var_list.py",
     "varRefreshCmd": "print(var_dic_list())"
    },
    "r": {
     "delete_cmd_postfix": ") ",
     "delete_cmd_prefix": "rm(",
     "library": "var_list.r",
     "varRefreshCmd": "cat(var_dic_list()) "
    }
   },
   "types_to_exclude": [
    "module",
    "function",
    "builtin_function_or_method",
    "instance",
    "_Feature"
   ],
   "window_display": false
  }
 },
 "nbformat": 4,
 "nbformat_minor": 2
}
